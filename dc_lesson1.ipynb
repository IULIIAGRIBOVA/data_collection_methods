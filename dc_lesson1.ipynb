{
 "cells": [
  {
   "cell_type": "code",
   "execution_count": 27,
   "metadata": {},
   "outputs": [
    {
     "name": "stdout",
     "output_type": "stream",
     "text": [
      "data_collection_methods\n",
      "hello\n",
      "home_work\n",
      "python_basic\n",
      "python_for_data_science\n",
      "Python_Library\n"
     ]
    }
   ],
   "source": [
    "#Задание 1 - список репозиториев на GitHub\n",
    "import json\n",
    "import requests\n",
    "repos = requests.get('https://api.github.com/users/IULIIAGRIBOVA/repos')\n",
    "\n",
    "for i in repos.json():\n",
    "    print(i['name'])\n"
   ]
  },
  {
   "cell_type": "code",
   "execution_count": 28,
   "metadata": {},
   "outputs": [],
   "source": [
    "with open('repos.json','w') as f:\n",
    "    json.dump(repos.json(), f)"
   ]
  },
  {
   "cell_type": "code",
   "execution_count": 46,
   "metadata": {},
   "outputs": [
    {
     "name": "stdout",
     "output_type": "stream",
     "text": [
      "http://mars.jpl.nasa.gov/msl-raw-images/proj/msl/redops/ods/surface/sol/01000/opgs/edr/fcam/FRB_486265257EDR_F0481570FHAZ00323M_.JPG\n"
     ]
    }
   ],
   "source": [
    "#Задание 2 \n",
    "#получаю фотографию Марса, сделанную марсоходом\n",
    "main_link = 'https://api.nasa.gov/mars-photos/api/v1/rovers/curiosity/photos'\n",
    "params = {'sol':1000,\n",
    "          'api_key':'4faBmz7o1HVCwKs0alhFmD3r959pVgon48E7WXi1'}    \n",
    "response = requests.get(main_link,headers=header,params=params)\n",
    "\n",
    "print(response.json()['photos'][1]['img_src'])\n",
    "res_im = requests.get(response.json()['photos'][1]['img_src'])\n",
    "\n",
    "with open('pic.png','wb') as f:\n",
    "     f.write(res_im.content)"
   ]
  },
  {
   "cell_type": "code",
   "execution_count": null,
   "metadata": {},
   "outputs": [],
   "source": []
  }
 ],
 "metadata": {
  "kernelspec": {
   "display_name": "Python 3",
   "language": "python",
   "name": "python3"
  },
  "language_info": {
   "codemirror_mode": {
    "name": "ipython",
    "version": 3
   },
   "file_extension": ".py",
   "mimetype": "text/x-python",
   "name": "python",
   "nbconvert_exporter": "python",
   "pygments_lexer": "ipython3",
   "version": "3.7.6"
  }
 },
 "nbformat": 4,
 "nbformat_minor": 4
}
